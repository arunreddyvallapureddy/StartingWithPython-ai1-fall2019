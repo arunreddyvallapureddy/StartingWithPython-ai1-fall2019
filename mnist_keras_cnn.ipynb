{
  "nbformat": 4,
  "nbformat_minor": 0,
  "metadata": {
    "colab": {
      "name": "mnist-keras-cnn.ipynb",
      "provenance": [],
      "include_colab_link": true
    },
    "kernelspec": {
      "name": "python3",
      "display_name": "Python 3"
    },
    "accelerator": "GPU"
  },
  "cells": [
    {
      "cell_type": "markdown",
      "metadata": {
        "id": "view-in-github",
        "colab_type": "text"
      },
      "source": [
        "<a href=\"https://colab.research.google.com/github/arunreddyvallapureddy/StartingWithPython-ai1-fall2019/blob/master/mnist_keras_cnn.ipynb\" target=\"_parent\"><img src=\"https://colab.research.google.com/assets/colab-badge.svg\" alt=\"Open In Colab\"/></a>"
      ]
    },
    {
      "cell_type": "markdown",
      "metadata": {
        "id": "S48WfyP-eWLT",
        "colab_type": "text"
      },
      "source": [
        "## Importing"
      ]
    },
    {
      "cell_type": "code",
      "metadata": {
        "id": "nSWctjIAqJZB",
        "colab_type": "code",
        "outputId": "82691850-4261-42ad-eaa6-7f151ea398b0",
        "colab": {
          "base_uri": "https://localhost:8080/",
          "height": 476
        }
      },
      "source": [
        "!pip install wandb"
      ],
      "execution_count": 1,
      "outputs": [
        {
          "output_type": "stream",
          "text": [
            "Requirement already satisfied: wandb in /usr/local/lib/python3.6/dist-packages (0.8.12)\n",
            "Requirement already satisfied: Click>=7.0 in /usr/local/lib/python3.6/dist-packages (from wandb) (7.0)\n",
            "Requirement already satisfied: docker-pycreds>=0.4.0 in /usr/local/lib/python3.6/dist-packages (from wandb) (0.4.0)\n",
            "Requirement already satisfied: shortuuid>=0.5.0 in /usr/local/lib/python3.6/dist-packages (from wandb) (0.5.0)\n",
            "Requirement already satisfied: requests>=2.0.0 in /usr/local/lib/python3.6/dist-packages (from wandb) (2.21.0)\n",
            "Requirement already satisfied: python-dateutil>=2.6.1 in /usr/local/lib/python3.6/dist-packages (from wandb) (2.8.0)\n",
            "Requirement already satisfied: watchdog>=0.8.3 in /usr/local/lib/python3.6/dist-packages (from wandb) (0.9.0)\n",
            "Requirement already satisfied: gql>=0.1.0 in /usr/local/lib/python3.6/dist-packages (from wandb) (0.1.0)\n",
            "Requirement already satisfied: GitPython>=1.0.0 in /usr/local/lib/python3.6/dist-packages (from wandb) (3.0.3)\n",
            "Requirement already satisfied: psutil>=5.0.0 in /usr/local/lib/python3.6/dist-packages (from wandb) (5.4.8)\n",
            "Requirement already satisfied: sentry-sdk>=0.4.0 in /usr/local/lib/python3.6/dist-packages (from wandb) (0.12.3)\n",
            "Requirement already satisfied: nvidia-ml-py3>=7.352.0 in /usr/local/lib/python3.6/dist-packages (from wandb) (7.352.0)\n",
            "Requirement already satisfied: subprocess32>=3.5.3 in /usr/local/lib/python3.6/dist-packages (from wandb) (3.5.4)\n",
            "Requirement already satisfied: configparser>=3.8.1 in /usr/local/lib/python3.6/dist-packages (from wandb) (4.0.2)\n",
            "Requirement already satisfied: six>=1.10.0 in /usr/local/lib/python3.6/dist-packages (from wandb) (1.12.0)\n",
            "Requirement already satisfied: certifi>=2017.4.17 in /usr/local/lib/python3.6/dist-packages (from requests>=2.0.0->wandb) (2019.9.11)\n",
            "Requirement already satisfied: urllib3<1.25,>=1.21.1 in /usr/local/lib/python3.6/dist-packages (from requests>=2.0.0->wandb) (1.24.3)\n",
            "Requirement already satisfied: chardet<3.1.0,>=3.0.2 in /usr/local/lib/python3.6/dist-packages (from requests>=2.0.0->wandb) (3.0.4)\n",
            "Requirement already satisfied: idna<2.9,>=2.5 in /usr/local/lib/python3.6/dist-packages (from requests>=2.0.0->wandb) (2.8)\n",
            "Requirement already satisfied: argh>=0.24.1 in /usr/local/lib/python3.6/dist-packages (from watchdog>=0.8.3->wandb) (0.26.2)\n",
            "Requirement already satisfied: pathtools>=0.1.1 in /usr/local/lib/python3.6/dist-packages (from watchdog>=0.8.3->wandb) (0.1.2)\n",
            "Requirement already satisfied: PyYAML>=3.10 in /usr/local/lib/python3.6/dist-packages (from watchdog>=0.8.3->wandb) (3.13)\n",
            "Requirement already satisfied: graphql-core>=0.5.0 in /usr/local/lib/python3.6/dist-packages (from gql>=0.1.0->wandb) (2.2.1)\n",
            "Requirement already satisfied: promise>=0.4.0 in /usr/local/lib/python3.6/dist-packages (from gql>=0.1.0->wandb) (2.2.1)\n",
            "Requirement already satisfied: gitdb2>=2.0.0 in /usr/local/lib/python3.6/dist-packages (from GitPython>=1.0.0->wandb) (2.0.6)\n",
            "Requirement already satisfied: rx<3,>=1.6 in /usr/local/lib/python3.6/dist-packages (from graphql-core>=0.5.0->gql>=0.1.0->wandb) (1.6.1)\n",
            "Requirement already satisfied: smmap2>=2.0.0 in /usr/local/lib/python3.6/dist-packages (from gitdb2>=2.0.0->GitPython>=1.0.0->wandb) (2.0.5)\n"
          ],
          "name": "stdout"
        }
      ]
    },
    {
      "cell_type": "code",
      "metadata": {
        "id": "7wpAO0NjdkGa",
        "colab_type": "code",
        "colab": {}
      },
      "source": [
        "# from lukas/mlclass\n",
        "from keras.datasets import mnist\n",
        "from keras.models import Sequential\n",
        "from keras.layers import Conv2D, MaxPooling2D, Dropout, Dense, Flatten\n",
        "from keras.utils import np_utils\n",
        "from wandb.keras import WandbCallback\n",
        "import wandb\n",
        "import os\n",
        "\n"
      ],
      "execution_count": 0,
      "outputs": []
    },
    {
      "cell_type": "code",
      "metadata": {
        "id": "HCIXgvVUquLz",
        "colab_type": "code",
        "outputId": "3a3de1dc-8be0-4429-e549-c08aca25efb9",
        "colab": {
          "base_uri": "https://localhost:8080/",
          "height": 34
        }
      },
      "source": [
        "run = wandb.init()"
      ],
      "execution_count": 14,
      "outputs": [
        {
          "output_type": "display_data",
          "data": {
            "text/html": [
              "\n",
              "            Notebook configured with <a href=\"https://wandb.com\" target=\"_blank\">W&B</a>. You can <a href=\"https://app.wandb.ai/arunreddyvallapureddy/uncategorized/runs/92w2v837\" target=\"_blank\">open</a> the run page, or call <code>%%wandb</code>\n",
              "            in a cell containing your training loop to display live results.  Learn more in our <a href=\"https://docs.wandb.com/docs/integrations/jupyter.html\" target=\"_blank\">docs</a>.\n",
              "        "
            ],
            "text/plain": [
              "<IPython.core.display.HTML object>"
            ]
          },
          "metadata": {
            "tags": []
          }
        }
      ]
    },
    {
      "cell_type": "markdown",
      "metadata": {
        "id": "H2iLJ24qefDt",
        "colab_type": "text"
      },
      "source": [
        "## Config"
      ]
    },
    {
      "cell_type": "code",
      "metadata": {
        "id": "xG8lUxuKd0uw",
        "colab_type": "code",
        "colab": {}
      },
      "source": [
        "# \n",
        "config = run.config\n",
        "# class Config:\n",
        "#   pass\n",
        "# config = Config()\n",
        "config.first_layer_convs = 32\n",
        "config.first_layer_conv_width = 3\n",
        "config.first_layer_conv_height = 3\n",
        "config.dropout = 0.2\n",
        "config.dense_layer_size = 100\n",
        "config.img_width = 28\n",
        "config.img_height = 28\n",
        "config.epochs = 30"
      ],
      "execution_count": 0,
      "outputs": []
    },
    {
      "cell_type": "markdown",
      "metadata": {
        "id": "vdRqoeq_ehuu",
        "colab_type": "text"
      },
      "source": [
        "## Setup"
      ]
    },
    {
      "cell_type": "code",
      "metadata": {
        "id": "SrkYbDtzdw4u",
        "colab_type": "code",
        "colab": {}
      },
      "source": [
        "(X_train, y_train), (X_test, y_test) = mnist.load_data()\n",
        "\n",
        "X_train = X_train.astype('float32')\n",
        "X_train /= 255.\n",
        "X_test = X_test.astype('float32')\n",
        "X_test /= 255.\n",
        "\n"
      ],
      "execution_count": 0,
      "outputs": []
    },
    {
      "cell_type": "code",
      "metadata": {
        "id": "cEtXh66KgtsP",
        "colab_type": "code",
        "outputId": "a2cd04d5-ca94-42ee-852a-c8bf03df9882",
        "colab": {
          "base_uri": "https://localhost:8080/",
          "height": 34
        }
      },
      "source": [
        "X_train.shape, y_test.shape"
      ],
      "execution_count": 10,
      "outputs": [
        {
          "output_type": "execute_result",
          "data": {
            "text/plain": [
              "((60000, 28, 28), (10000,))"
            ]
          },
          "metadata": {
            "tags": []
          },
          "execution_count": 10
        }
      ]
    },
    {
      "cell_type": "code",
      "metadata": {
        "id": "agWhTJudgoOS",
        "colab_type": "code",
        "outputId": "da90bdc4-5cb2-4ac3-edfc-066a9cf556d9",
        "colab": {
          "base_uri": "https://localhost:8080/",
          "height": 34
        }
      },
      "source": [
        "# reshape input data\n",
        "X_train = X_train.reshape(\n",
        "    X_train.shape[0], config.img_width, config.img_height, 1)\n",
        "X_test = X_test.reshape(\n",
        "    X_test.shape[0], config.img_width, config.img_height, 1)\n",
        "\n",
        "# one hot encode outputs\n",
        "y_train = np_utils.to_categorical(y_train)\n",
        "y_test = np_utils.to_categorical(y_test)\n",
        "print(y_train.shape)\n",
        "num_classes = y_test.shape[1]\n",
        "labels = range(10)"
      ],
      "execution_count": 18,
      "outputs": [
        {
          "output_type": "stream",
          "text": [
            "(60000, 10)\n"
          ],
          "name": "stdout"
        }
      ]
    },
    {
      "cell_type": "markdown",
      "metadata": {
        "id": "ar0JcDPvem_6",
        "colab_type": "text"
      },
      "source": [
        "## Model Building"
      ]
    },
    {
      "cell_type": "code",
      "metadata": {
        "id": "TTZ0o7TreEDX",
        "colab_type": "code",
        "outputId": "9e9b9e11-7958-4490-8e27-ef698662ab6d",
        "colab": {
          "base_uri": "https://localhost:8080/",
          "height": 459
        }
      },
      "source": [
        "# build model\n",
        "model = Sequential()\n",
        "\n",
        "model.add(Conv2D(32,\n",
        "                 (config.first_layer_conv_width, config.first_layer_conv_height),\n",
        "                 input_shape=(28, 28, 1),\n",
        "                 activation='relu'))\n",
        "#26x26x32\n",
        "model.add(MaxPooling2D(pool_size=(2, 2)))\n",
        "#13x13x32\n",
        "#model.add(Dropout(0.4))\n",
        "model.add(Conv2D(64,\n",
        "                 (3, 3),\n",
        "                 activation='relu'))\n",
        "#11x11x64\n",
        "model.add(MaxPooling2D(pool_size=(2, 2)))\n",
        "#6x6x64\n",
        "model.add(Dropout(0.4))\n",
        "model.add(Flatten())\n",
        "#2304\n",
        "model.add(Dense(config.dense_layer_size, activation='relu'))\n",
        "#2304x100\n",
        "model.add(Dropout(0.4))\n",
        "model.add(Dense(num_classes, activation='softmax'))\n",
        "\n",
        "model.compile(loss='categorical_crossentropy', optimizer='adam',\n",
        "              metrics=['accuracy'])\n",
        "model.summary()\n"
      ],
      "execution_count": 19,
      "outputs": [
        {
          "output_type": "stream",
          "text": [
            "Model: \"sequential_2\"\n",
            "_________________________________________________________________\n",
            "Layer (type)                 Output Shape              Param #   \n",
            "=================================================================\n",
            "conv2d_3 (Conv2D)            (None, 26, 26, 32)        320       \n",
            "_________________________________________________________________\n",
            "max_pooling2d_3 (MaxPooling2 (None, 13, 13, 32)        0         \n",
            "_________________________________________________________________\n",
            "conv2d_4 (Conv2D)            (None, 11, 11, 64)        18496     \n",
            "_________________________________________________________________\n",
            "max_pooling2d_4 (MaxPooling2 (None, 5, 5, 64)          0         \n",
            "_________________________________________________________________\n",
            "dropout_2 (Dropout)          (None, 5, 5, 64)          0         \n",
            "_________________________________________________________________\n",
            "flatten_2 (Flatten)          (None, 1600)              0         \n",
            "_________________________________________________________________\n",
            "dense_3 (Dense)              (None, 100)               160100    \n",
            "_________________________________________________________________\n",
            "dropout_3 (Dropout)          (None, 100)               0         \n",
            "_________________________________________________________________\n",
            "dense_4 (Dense)              (None, 10)                1010      \n",
            "=================================================================\n",
            "Total params: 179,926\n",
            "Trainable params: 179,926\n",
            "Non-trainable params: 0\n",
            "_________________________________________________________________\n"
          ],
          "name": "stdout"
        }
      ]
    },
    {
      "cell_type": "code",
      "metadata": {
        "id": "3WZnUmbTeESk",
        "colab_type": "code",
        "outputId": "7e743d7a-1474-4615-827f-fa63eea59390",
        "colab": {
          "base_uri": "https://localhost:8080/",
          "height": 1000
        }
      },
      "source": [
        "%%wandb\n",
        "## Model Running\n",
        "history = model.fit(X_train, y_train, validation_data=(X_test, y_test),\n",
        "          epochs=config.epochs,\n",
        "          callbacks=[WandbCallback(data_type=\"image\", save_model=False)])"
      ],
      "execution_count": 20,
      "outputs": [
        {
          "output_type": "display_data",
          "data": {
            "text/html": [
              "<iframe src=\"https://app.wandb.ai/arunreddyvallapureddy/uncategorized/runs/92w2v837?jupyter=true&state=paused\" style=\"border:none;width:100%;height:420px\">\n",
              "        </iframe>"
            ],
            "text/plain": [
              "<wandb.jupyter.Run at 0x7f225cce0cc0>"
            ]
          },
          "metadata": {
            "tags": []
          }
        },
        {
          "output_type": "stream",
          "text": [
            "Train on 60000 samples, validate on 10000 samples\n",
            "Epoch 1/30\n",
            "  672/60000 [..............................] - ETA: 1:43 - loss: 2.1569 - acc: 0.2455"
          ],
          "name": "stdout"
        },
        {
          "output_type": "stream",
          "text": [
            "/usr/local/lib/python3.6/dist-packages/keras/callbacks.py:95: RuntimeWarning: Method (on_train_batch_end) is slow compared to the batch update (0.603630). Check your callbacks.\n",
            "  % (hook_name, delta_t_median), RuntimeWarning)\n",
            "/usr/local/lib/python3.6/dist-packages/keras/callbacks.py:95: RuntimeWarning: Method (on_train_batch_end) is slow compared to the batch update (0.303887). Check your callbacks.\n",
            "  % (hook_name, delta_t_median), RuntimeWarning)\n"
          ],
          "name": "stderr"
        },
        {
          "output_type": "stream",
          "text": [
            "60000/60000 [==============================] - 17s 285us/step - loss: 0.2280 - acc: 0.9290 - val_loss: 0.0517 - val_acc: 0.9844\n",
            "Epoch 2/30\n",
            "60000/60000 [==============================] - 16s 262us/step - loss: 0.0883 - acc: 0.9731 - val_loss: 0.0435 - val_acc: 0.9854\n",
            "Epoch 3/30\n",
            "60000/60000 [==============================] - 16s 260us/step - loss: 0.0697 - acc: 0.9789 - val_loss: 0.0309 - val_acc: 0.9889\n",
            "Epoch 4/30\n",
            "60000/60000 [==============================] - 16s 259us/step - loss: 0.0571 - acc: 0.9827 - val_loss: 0.0236 - val_acc: 0.9910\n",
            "Epoch 5/30\n",
            "60000/60000 [==============================] - 16s 259us/step - loss: 0.0499 - acc: 0.9844 - val_loss: 0.0250 - val_acc: 0.9915\n",
            "Epoch 6/30\n",
            "60000/60000 [==============================] - 16s 260us/step - loss: 0.0468 - acc: 0.9858 - val_loss: 0.0214 - val_acc: 0.9928\n",
            "Epoch 7/30\n",
            "60000/60000 [==============================] - 16s 267us/step - loss: 0.0413 - acc: 0.9873 - val_loss: 0.0213 - val_acc: 0.9931\n",
            "Epoch 8/30\n",
            "60000/60000 [==============================] - 16s 266us/step - loss: 0.0386 - acc: 0.9878 - val_loss: 0.0189 - val_acc: 0.9939\n",
            "Epoch 9/30\n",
            "60000/60000 [==============================] - 16s 267us/step - loss: 0.0373 - acc: 0.9888 - val_loss: 0.0221 - val_acc: 0.9926\n",
            "Epoch 10/30\n",
            "60000/60000 [==============================] - 16s 263us/step - loss: 0.0336 - acc: 0.9891 - val_loss: 0.0211 - val_acc: 0.9939\n",
            "Epoch 11/30\n",
            "60000/60000 [==============================] - 16s 265us/step - loss: 0.0329 - acc: 0.9896 - val_loss: 0.0221 - val_acc: 0.9929\n",
            "Epoch 12/30\n",
            "60000/60000 [==============================] - 16s 264us/step - loss: 0.0326 - acc: 0.9893 - val_loss: 0.0180 - val_acc: 0.9940\n",
            "Epoch 13/30\n",
            "60000/60000 [==============================] - 16s 259us/step - loss: 0.0301 - acc: 0.9906 - val_loss: 0.0333 - val_acc: 0.9918\n",
            "Epoch 14/30\n",
            "60000/60000 [==============================] - 16s 263us/step - loss: 0.0297 - acc: 0.9905 - val_loss: 0.0257 - val_acc: 0.9927\n",
            "Epoch 15/30\n",
            "60000/60000 [==============================] - 15s 257us/step - loss: 0.0276 - acc: 0.9910 - val_loss: 0.0191 - val_acc: 0.9945\n",
            "Epoch 16/30\n",
            "60000/60000 [==============================] - 15s 256us/step - loss: 0.0269 - acc: 0.9915 - val_loss: 0.0207 - val_acc: 0.9942\n",
            "Epoch 17/30\n",
            "60000/60000 [==============================] - 15s 256us/step - loss: 0.0272 - acc: 0.9915 - val_loss: 0.0254 - val_acc: 0.9922\n",
            "Epoch 18/30\n",
            "60000/60000 [==============================] - 15s 257us/step - loss: 0.0253 - acc: 0.9920 - val_loss: 0.0185 - val_acc: 0.9944\n",
            "Epoch 19/30\n",
            "60000/60000 [==============================] - 15s 258us/step - loss: 0.0243 - acc: 0.9919 - val_loss: 0.0211 - val_acc: 0.9936\n",
            "Epoch 20/30\n",
            "60000/60000 [==============================] - 16s 262us/step - loss: 0.0233 - acc: 0.9927 - val_loss: 0.0209 - val_acc: 0.9943\n",
            "Epoch 21/30\n",
            "60000/60000 [==============================] - 16s 259us/step - loss: 0.0250 - acc: 0.9921 - val_loss: 0.0223 - val_acc: 0.9940\n",
            "Epoch 22/30\n",
            "60000/60000 [==============================] - 15s 257us/step - loss: 0.0244 - acc: 0.9921 - val_loss: 0.0197 - val_acc: 0.9945\n",
            "Epoch 23/30\n",
            "60000/60000 [==============================] - 15s 255us/step - loss: 0.0225 - acc: 0.9934 - val_loss: 0.0208 - val_acc: 0.9951\n",
            "Epoch 24/30\n",
            "60000/60000 [==============================] - 15s 258us/step - loss: 0.0224 - acc: 0.9928 - val_loss: 0.0245 - val_acc: 0.9940\n",
            "Epoch 25/30\n",
            "60000/60000 [==============================] - 15s 257us/step - loss: 0.0224 - acc: 0.9929 - val_loss: 0.0266 - val_acc: 0.9933\n",
            "Epoch 26/30\n",
            "60000/60000 [==============================] - 15s 256us/step - loss: 0.0215 - acc: 0.9930 - val_loss: 0.0184 - val_acc: 0.9947\n",
            "Epoch 27/30\n",
            "60000/60000 [==============================] - 16s 261us/step - loss: 0.0217 - acc: 0.9927 - val_loss: 0.0222 - val_acc: 0.9939\n",
            "Epoch 28/30\n",
            "60000/60000 [==============================] - 16s 263us/step - loss: 0.0192 - acc: 0.9937 - val_loss: 0.0227 - val_acc: 0.9937\n",
            "Epoch 29/30\n",
            "60000/60000 [==============================] - 16s 263us/step - loss: 0.0202 - acc: 0.9935 - val_loss: 0.0208 - val_acc: 0.9935\n",
            "Epoch 30/30\n",
            "60000/60000 [==============================] - 16s 260us/step - loss: 0.0211 - acc: 0.9932 - val_loss: 0.0252 - val_acc: 0.9931\n"
          ],
          "name": "stdout"
        }
      ]
    },
    {
      "cell_type": "code",
      "metadata": {
        "id": "3hX4B-stlU_t",
        "colab_type": "code",
        "outputId": "723bab71-906d-4a71-e2ef-7b3c9c140f98",
        "colab": {
          "base_uri": "https://localhost:8080/",
          "height": 573
        }
      },
      "source": [
        "import matplotlib.pyplot as plt\n",
        "# Plot training & validation accuracy values\n",
        "plt.plot(history.history['acc'])\n",
        "plt.plot(history.history['val_acc'])\n",
        "plt.title('Model accuracy')\n",
        "plt.ylabel('Accuracy')\n",
        "plt.xlabel('Epoch')\n",
        "plt.legend(['Train', 'Test'], loc='upper left')\n",
        "plt.show()\n",
        "\n",
        "# Plot training & validation loss values\n",
        "plt.plot(history.history['loss'])\n",
        "plt.plot(history.history['val_loss'])\n",
        "plt.title('Model loss')\n",
        "plt.ylabel('Loss')\n",
        "plt.xlabel('Epoch')\n",
        "plt.legend(['Train', 'Test'], loc='upper left')\n",
        "plt.show()"
      ],
      "execution_count": 21,
      "outputs": [
        {
          "output_type": "display_data",
          "data": {
            "image/png": "[encoded data removed]",
            "text/plain": [
              "<Figure size 432x288 with 1 Axes>"
            ]
          },
          "metadata": {
            "tags": []
          }
        },
        {
          "output_type": "display_data",
          "data": {
            "image/png": "[encoded data removed]",
            "text/plain": [
              "<Figure size 432x288 with 1 Axes>"
            ]
          },
          "metadata": {
            "tags": []
          }
        }
      ]
    },
    {
      "cell_type": "code",
      "metadata": {
        "id": "wN-nX-ZWlnOQ",
        "colab_type": "code",
        "colab": {}
      },
      "source": [
        ""
      ],
      "execution_count": 0,
      "outputs": []
    }
  ]
}