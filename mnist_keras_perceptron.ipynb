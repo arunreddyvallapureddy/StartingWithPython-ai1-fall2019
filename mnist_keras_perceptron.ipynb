{
  "nbformat": 4,
  "nbformat_minor": 0,
  "metadata": {
    "colab": {
      "name": "mnist-keras-perceptron.ipynb",
      "provenance": [],
      "collapsed_sections": [],
      "include_colab_link": true
    },
    "kernelspec": {
      "name": "python3",
      "display_name": "Python 3"
    },
    "accelerator": "GPU"
  },
  "cells": [
    {
      "cell_type": "markdown",
      "metadata": {
        "id": "view-in-github",
        "colab_type": "text"
      },
      "source": [
        "<a href=\"https://colab.research.google.com/github/arunreddyvallapureddy/StartingWithPython-ai1-fall2019/blob/master/mnist_keras_perceptron.ipynb\" target=\"_parent\"><img src=\"https://colab.research.google.com/assets/colab-badge.svg\" alt=\"Open In Colab\"/></a>"
      ]
    },
    {
      "cell_type": "code",
      "metadata": {
        "id": "0rrbVKm5n6E3",
        "colab_type": "code",
        "outputId": "a324dca7-413f-4d54-df05-ca1461e11e13",
        "colab": {
          "base_uri": "https://localhost:8080/",
          "height": 1000
        }
      },
      "source": [
        "# taken from lukas/ml-class\n",
        "import numpy as np\n",
        "from keras.datasets import mnist\n",
        "from keras.models import Sequential\n",
        "from keras.layers import Dense, Flatten, Dropout\n",
        "from keras.utils import np_utils\n",
        "from keras.callbacks import Callback\n",
        "import json\n",
        "\n",
        "# from wandb.keras import WandbCallback\n",
        "# import wandb\n",
        "\n",
        "# run = wandb.init()\n",
        "# config = run.config\n",
        "\n",
        "class Config:\n",
        "  pass\n",
        "\n",
        "config = Config()\n",
        "config.optimizer = \"adam\"\n",
        "config.epochs = 30\n",
        "config.hidden_nodes = 30\n",
        "\n",
        "# load data\n",
        "(X_train, y_train), (X_test, y_test) = mnist.load_data()\n",
        "img_width = X_train.shape[1]\n",
        "img_height = X_train.shape[2]\n",
        "print(X_train.shape, y_train.shape)\n",
        "#X_train = X_train.astype('float32')\n",
        "#X_train /= 255.\n",
        "#X_test = X_test.astype('float32')\n",
        "#X_test /= 255.\n",
        "\n",
        "# Normalize, change learning rate, play with layer size, batchsize\n",
        "\n",
        "# one hot encode outputs\n",
        "y_train = np_utils.to_categorical(y_train)\n",
        "y_test = np_utils.to_categorical(y_test)\n",
        "labels = range(10)\n",
        "\n",
        "num_classes = y_train.shape[1]\n",
        "\n",
        "\n",
        "# create model\n",
        "model = Sequential()\n",
        "model.add(Flatten(input_shape=(img_width, img_height)))\n",
        "model.add(Dense(config.hidden_nodes, activation='relu'))\n",
        "model.add(Dense(config.hidden_nodes, activation='relu'))\n",
        "model.add(Dense(num_classes, activation='softmax'))\n",
        "model.compile(loss='categorical_crossentropy', optimizer=config.optimizer,\n",
        "              metrics=['accuracy'])\n",
        "model.summary()\n",
        "# Fit the model\n",
        "history = model.fit(X_train, y_train, validation_data=(X_test, y_test),\n",
        "          epochs=config.epochs)"
      ],
      "execution_count": 3,
      "outputs": [
        {
          "output_type": "stream",
          "text": [
            "(60000, 28, 28) (60000,)\n",
            "Model: \"sequential_2\"\n",
            "_________________________________________________________________\n",
            "Layer (type)                 Output Shape              Param #   \n",
            "=================================================================\n",
            "flatten_2 (Flatten)          (None, 784)               0         \n",
            "_________________________________________________________________\n",
            "dense_4 (Dense)              (None, 30)                23550     \n",
            "_________________________________________________________________\n",
            "dense_5 (Dense)              (None, 30)                930       \n",
            "_________________________________________________________________\n",
            "dense_6 (Dense)              (None, 10)                310       \n",
            "=================================================================\n",
            "Total params: 24,790\n",
            "Trainable params: 24,790\n",
            "Non-trainable params: 0\n",
            "_________________________________________________________________\n",
            "Train on 60000 samples, validate on 10000 samples\n",
            "Epoch 1/30\n",
            "60000/60000 [==============================] - 10s 167us/step - loss: 6.1729 - acc: 0.6072 - val_loss: 5.5993 - val_acc: 0.6475\n",
            "Epoch 2/30\n",
            "60000/60000 [==============================] - 10s 162us/step - loss: 4.9725 - acc: 0.6850 - val_loss: 4.2851 - val_acc: 0.7297\n",
            "Epoch 3/30\n",
            "60000/60000 [==============================] - 10s 163us/step - loss: 4.3716 - acc: 0.7242 - val_loss: 4.1349 - val_acc: 0.7394\n",
            "Epoch 4/30\n",
            "60000/60000 [==============================] - 10s 168us/step - loss: 4.3282 - acc: 0.7277 - val_loss: 4.1473 - val_acc: 0.7396\n",
            "Epoch 5/30\n",
            "60000/60000 [==============================] - 10s 164us/step - loss: 4.1586 - acc: 0.7389 - val_loss: 4.0772 - val_acc: 0.7435\n",
            "Epoch 6/30\n",
            "60000/60000 [==============================] - 10s 163us/step - loss: 4.1515 - acc: 0.7395 - val_loss: 4.2024 - val_acc: 0.7370\n",
            "Epoch 7/30\n",
            "60000/60000 [==============================] - 10s 163us/step - loss: 4.1452 - acc: 0.7406 - val_loss: 4.1142 - val_acc: 0.7432\n",
            "Epoch 8/30\n",
            "60000/60000 [==============================] - 10s 163us/step - loss: 4.1152 - acc: 0.7424 - val_loss: 4.0047 - val_acc: 0.7493\n",
            "Epoch 9/30\n",
            "60000/60000 [==============================] - 10s 163us/step - loss: 4.0768 - acc: 0.7453 - val_loss: 4.0521 - val_acc: 0.7468\n",
            "Epoch 10/30\n",
            "60000/60000 [==============================] - 10s 164us/step - loss: 4.0341 - acc: 0.7480 - val_loss: 4.0657 - val_acc: 0.7457\n",
            "Epoch 11/30\n",
            "60000/60000 [==============================] - 10s 163us/step - loss: 4.0430 - acc: 0.7478 - val_loss: 3.9970 - val_acc: 0.7511\n",
            "Epoch 12/30\n",
            "60000/60000 [==============================] - 10s 162us/step - loss: 4.0517 - acc: 0.7471 - val_loss: 3.9825 - val_acc: 0.7520\n",
            "Epoch 13/30\n",
            "60000/60000 [==============================] - 10s 162us/step - loss: 4.0668 - acc: 0.7465 - val_loss: 3.9873 - val_acc: 0.7517\n",
            "Epoch 14/30\n",
            "60000/60000 [==============================] - 10s 162us/step - loss: 4.0587 - acc: 0.7469 - val_loss: 3.9798 - val_acc: 0.7524\n",
            "Epoch 15/30\n",
            "60000/60000 [==============================] - 10s 169us/step - loss: 4.0394 - acc: 0.7484 - val_loss: 4.1929 - val_acc: 0.7384\n",
            "Epoch 16/30\n",
            "60000/60000 [==============================] - 10s 160us/step - loss: 4.0146 - acc: 0.7499 - val_loss: 4.0124 - val_acc: 0.7496\n",
            "Epoch 17/30\n",
            "60000/60000 [==============================] - 10s 163us/step - loss: 3.9779 - acc: 0.7523 - val_loss: 3.8497 - val_acc: 0.7606\n",
            "Epoch 18/30\n",
            "60000/60000 [==============================] - 10s 162us/step - loss: 3.9965 - acc: 0.7514 - val_loss: 4.0195 - val_acc: 0.7500\n",
            "Epoch 19/30\n",
            "60000/60000 [==============================] - 10s 162us/step - loss: 3.9601 - acc: 0.7535 - val_loss: 3.8352 - val_acc: 0.7612\n",
            "Epoch 20/30\n",
            "60000/60000 [==============================] - 10s 162us/step - loss: 4.0328 - acc: 0.7490 - val_loss: 4.1081 - val_acc: 0.7445\n",
            "Epoch 21/30\n",
            "60000/60000 [==============================] - 10s 162us/step - loss: 3.9536 - acc: 0.7538 - val_loss: 3.8673 - val_acc: 0.7593\n",
            "Epoch 22/30\n",
            "60000/60000 [==============================] - 10s 160us/step - loss: 3.9569 - acc: 0.7538 - val_loss: 3.8802 - val_acc: 0.7582\n",
            "Epoch 23/30\n",
            "60000/60000 [==============================] - 10s 162us/step - loss: 3.9987 - acc: 0.7512 - val_loss: 4.0078 - val_acc: 0.7502\n",
            "Epoch 24/30\n",
            "60000/60000 [==============================] - 10s 161us/step - loss: 4.0040 - acc: 0.7511 - val_loss: 3.8175 - val_acc: 0.7626\n",
            "Epoch 25/30\n",
            "60000/60000 [==============================] - 10s 162us/step - loss: 3.9595 - acc: 0.7536 - val_loss: 3.9807 - val_acc: 0.7523\n",
            "Epoch 26/30\n",
            "60000/60000 [==============================] - 10s 162us/step - loss: 3.9855 - acc: 0.7521 - val_loss: 4.0133 - val_acc: 0.7504\n",
            "Epoch 27/30\n",
            "60000/60000 [==============================] - 10s 162us/step - loss: 3.9710 - acc: 0.7531 - val_loss: 4.0359 - val_acc: 0.7490\n",
            "Epoch 28/30\n",
            "60000/60000 [==============================] - 10s 162us/step - loss: 3.9569 - acc: 0.7540 - val_loss: 3.9009 - val_acc: 0.7577\n",
            "Epoch 29/30\n",
            "60000/60000 [==============================] - 10s 163us/step - loss: 3.9783 - acc: 0.7527 - val_loss: 3.8894 - val_acc: 0.7583\n",
            "Epoch 30/30\n",
            "60000/60000 [==============================] - 10s 162us/step - loss: 4.0012 - acc: 0.7513 - val_loss: 4.0036 - val_acc: 0.7512\n"
          ],
          "name": "stdout"
        }
      ]
    },
    {
      "cell_type": "code",
      "metadata": {
        "id": "uwYXlXs5157P",
        "colab_type": "code",
        "colab": {}
      },
      "source": [
        "a = np.arange(-10, 10, 0.1)\n",
        "b = np.arange(-10, 10, 0.1)\n",
        "C = lambda a, b: (a+b-2)**2\n"
      ],
      "execution_count": 0,
      "outputs": []
    },
    {
      "cell_type": "code",
      "metadata": {
        "id": "p4LqZPmV2oLU",
        "colab_type": "code",
        "colab": {}
      },
      "source": [
        "import matplotlib.pyplot as plt"
      ],
      "execution_count": 0,
      "outputs": []
    },
    {
      "cell_type": "code",
      "metadata": {
        "id": "Zq-F96EP2Z0b",
        "colab_type": "code",
        "colab": {
          "base_uri": "https://localhost:8080/",
          "height": 286
        },
        "outputId": "ef835773-5f10-4e52-f6a6-8758bc29f7e1"
      },
      "source": [
        "\n",
        "plt.plot(a, C(a,0))"
      ],
      "execution_count": 7,
      "outputs": [
        {
          "output_type": "execute_result",
          "data": {
            "text/plain": [
              "[<matplotlib.lines.Line2D at 0x7f1e63f737b8>]"
            ]
          },
          "metadata": {
            "tags": []
          },
          "execution_count": 7
        },
        {
          "output_type": "display_data",
          "data": {
            "image/png": "[encoded data removed]",
            "text/plain": [
              "<Figure size 432x288 with 1 Axes>"
            ]
          },
          "metadata": {
            "tags": []
          }
        }
      ]
    },
    {
      "cell_type": "code",
      "metadata": {
        "id": "KCFFmumL5CCB",
        "colab_type": "code",
        "colab": {}
      },
      "source": [
        "epochs = history.epoch"
      ],
      "execution_count": 0,
      "outputs": []
    },
    {
      "cell_type": "code",
      "metadata": {
        "id": "iSEfo-365SQE",
        "colab_type": "code",
        "colab": {
          "base_uri": "https://localhost:8080/",
          "height": 34
        },
        "outputId": "defa2aea-4420-42f1-a24d-6b97f9f1cc53"
      },
      "source": [
        "len(history.history['acc'])"
      ],
      "execution_count": 10,
      "outputs": [
        {
          "output_type": "execute_result",
          "data": {
            "text/plain": [
              "30"
            ]
          },
          "metadata": {
            "tags": []
          },
          "execution_count": 10
        }
      ]
    },
    {
      "cell_type": "code",
      "metadata": {
        "id": "UXwOqdE9588I",
        "colab_type": "code",
        "colab": {
          "base_uri": "https://localhost:8080/",
          "height": 286
        },
        "outputId": "9399296d-f263-4bdf-abdf-1ca0d9634672"
      },
      "source": [
        "plt.plot(history.epoch, history.history['loss'])"
      ],
      "execution_count": 11,
      "outputs": [
        {
          "output_type": "execute_result",
          "data": {
            "text/plain": [
              "[<matplotlib.lines.Line2D at 0x7f1e6171c438>]"
            ]
          },
          "metadata": {
            "tags": []
          },
          "execution_count": 11
        },
        {
          "output_type": "display_data",
          "data": {
            "image/png": "[encoded data removed]",
            "text/plain": [
              "<Figure size 432x288 with 1 Axes>"
            ]
          },
          "metadata": {
            "tags": []
          }
        }
      ]
    },
    {
      "cell_type": "code",
      "metadata": {
        "id": "S8OICljl_fd9",
        "colab_type": "code",
        "colab": {}
      },
      "source": [
        ""
      ],
      "execution_count": 0,
      "outputs": []
    }
  ]
}